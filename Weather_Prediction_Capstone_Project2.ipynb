{
  "nbformat": 4,
  "nbformat_minor": 0,
  "metadata": {
    "colab": {
      "provenance": [],
      "machine_shape": "hm",
      "gpuType": "T4"
    },
    "kernelspec": {
      "name": "python3",
      "display_name": "Python 3"
    },
    "language_info": {
      "name": "python"
    },
    "accelerator": "GPU"
  },
  "cells": [
    {
      "cell_type": "markdown",
      "source": [
        "## Capstone Project: Prediksi Cuaca Sederhana Berbasis Data Historis dengan Machine Learning dan Visualisasi Web\n",
        "\n",
        "**ID Team:** CC25-CR363\n",
        "\n",
        "### 📊 Deskripsi Dataset\n",
        "\n",
        "**Sumber**: [BMKG (Badan Meteorologi, Klimatologi, dan Geofisika)](https://dataonline.bmkg.go.id/)\n",
        "\n",
        "**Periode Data**: Tahun **2013 hingga 2024**  \n",
        "**Provinsi**: DKI Jakarta  \n",
        "**Kota**: Jakarta Pusat  \n",
        "**Stasiun**: Stasiun Meteorologi Kemayoran\n",
        "\n",
        "Dataset ini berisi data pengamatan cuaca harian yang dikumpulkan oleh BMKG dari Stasiun Meteorologi Kemayoran. Data mencakup parameter-parameter penting seperti:\n",
        "\n",
        "- Suhu minimum, maksimum, dan rata-rata (°C)\n",
        "- Kelembaban rata-rata (%)\n",
        "- Curah hujan harian (mm)\n",
        "- Lama penyinaran matahari (jam)\n",
        "- Kecepatan dan arah angin maksimum serta rata-rata\n",
        "\n",
        "### 🎯 Tujuan Proyek\n",
        "\n",
        "Membangun model machine learning untuk memprediksi **kondisi cuaca harian** di Jakarta Pusat berdasarkan data historis. Label cuaca diklasifikasikan menjadi:"
      ],
      "metadata": {
        "id": "yTIdbF6uMxDu"
      }
    },
    {
      "cell_type": "markdown",
      "source": [
        "## 1. Import Library"
      ],
      "metadata": {
        "id": "agOqvQLXMwTv"
      }
    },
    {
      "cell_type": "code",
      "source": [
        "pip install imbalanced-learn"
      ],
      "metadata": {
        "colab": {
          "base_uri": "https://localhost:8080/"
        },
        "id": "lriCbzO1ic1N",
        "outputId": "06e74e65-4aae-46b0-86d2-d63c8ed0f3e3"
      },
      "execution_count": 1,
      "outputs": [
        {
          "output_type": "stream",
          "name": "stdout",
          "text": [
            "Requirement already satisfied: imbalanced-learn in /usr/local/lib/python3.11/dist-packages (0.13.0)\n",
            "Requirement already satisfied: numpy<3,>=1.24.3 in /usr/local/lib/python3.11/dist-packages (from imbalanced-learn) (2.0.2)\n",
            "Requirement already satisfied: scipy<2,>=1.10.1 in /usr/local/lib/python3.11/dist-packages (from imbalanced-learn) (1.15.3)\n",
            "Requirement already satisfied: scikit-learn<2,>=1.3.2 in /usr/local/lib/python3.11/dist-packages (from imbalanced-learn) (1.6.1)\n",
            "Requirement already satisfied: sklearn-compat<1,>=0.1 in /usr/local/lib/python3.11/dist-packages (from imbalanced-learn) (0.1.3)\n",
            "Requirement already satisfied: joblib<2,>=1.1.1 in /usr/local/lib/python3.11/dist-packages (from imbalanced-learn) (1.5.1)\n",
            "Requirement already satisfied: threadpoolctl<4,>=2.0.0 in /usr/local/lib/python3.11/dist-packages (from imbalanced-learn) (3.6.0)\n"
          ]
        }
      ]
    },
    {
      "cell_type": "code",
      "source": [
        "!pip install keras-tuner"
      ],
      "metadata": {
        "colab": {
          "base_uri": "https://localhost:8080/"
        },
        "id": "KQjbxyXQ4Zp1",
        "outputId": "0c354664-2d43-439d-f274-f279c5ba2333"
      },
      "execution_count": 2,
      "outputs": [
        {
          "output_type": "stream",
          "name": "stdout",
          "text": [
            "Collecting keras-tuner\n",
            "  Downloading keras_tuner-1.4.7-py3-none-any.whl.metadata (5.4 kB)\n",
            "Requirement already satisfied: keras in /usr/local/lib/python3.11/dist-packages (from keras-tuner) (3.8.0)\n",
            "Requirement already satisfied: packaging in /usr/local/lib/python3.11/dist-packages (from keras-tuner) (24.2)\n",
            "Requirement already satisfied: requests in /usr/local/lib/python3.11/dist-packages (from keras-tuner) (2.32.3)\n",
            "Collecting kt-legacy (from keras-tuner)\n",
            "  Downloading kt_legacy-1.0.5-py3-none-any.whl.metadata (221 bytes)\n",
            "Requirement already satisfied: absl-py in /usr/local/lib/python3.11/dist-packages (from keras->keras-tuner) (1.4.0)\n",
            "Requirement already satisfied: numpy in /usr/local/lib/python3.11/dist-packages (from keras->keras-tuner) (2.0.2)\n",
            "Requirement already satisfied: rich in /usr/local/lib/python3.11/dist-packages (from keras->keras-tuner) (13.9.4)\n",
            "Requirement already satisfied: namex in /usr/local/lib/python3.11/dist-packages (from keras->keras-tuner) (0.1.0)\n",
            "Requirement already satisfied: h5py in /usr/local/lib/python3.11/dist-packages (from keras->keras-tuner) (3.13.0)\n",
            "Requirement already satisfied: optree in /usr/local/lib/python3.11/dist-packages (from keras->keras-tuner) (0.16.0)\n",
            "Requirement already satisfied: ml-dtypes in /usr/local/lib/python3.11/dist-packages (from keras->keras-tuner) (0.4.1)\n",
            "Requirement already satisfied: charset-normalizer<4,>=2 in /usr/local/lib/python3.11/dist-packages (from requests->keras-tuner) (3.4.2)\n",
            "Requirement already satisfied: idna<4,>=2.5 in /usr/local/lib/python3.11/dist-packages (from requests->keras-tuner) (3.10)\n",
            "Requirement already satisfied: urllib3<3,>=1.21.1 in /usr/local/lib/python3.11/dist-packages (from requests->keras-tuner) (2.4.0)\n",
            "Requirement already satisfied: certifi>=2017.4.17 in /usr/local/lib/python3.11/dist-packages (from requests->keras-tuner) (2025.4.26)\n",
            "Requirement already satisfied: typing-extensions>=4.6.0 in /usr/local/lib/python3.11/dist-packages (from optree->keras->keras-tuner) (4.13.2)\n",
            "Requirement already satisfied: markdown-it-py>=2.2.0 in /usr/local/lib/python3.11/dist-packages (from rich->keras->keras-tuner) (3.0.0)\n",
            "Requirement already satisfied: pygments<3.0.0,>=2.13.0 in /usr/local/lib/python3.11/dist-packages (from rich->keras->keras-tuner) (2.19.1)\n",
            "Requirement already satisfied: mdurl~=0.1 in /usr/local/lib/python3.11/dist-packages (from markdown-it-py>=2.2.0->rich->keras->keras-tuner) (0.1.2)\n",
            "Downloading keras_tuner-1.4.7-py3-none-any.whl (129 kB)\n",
            "\u001b[2K   \u001b[90m━━━━━━━━━━━━━━━━━━━━━━━━━━━━━━━━━━━━━━━━\u001b[0m \u001b[32m129.1/129.1 kB\u001b[0m \u001b[31m6.6 MB/s\u001b[0m eta \u001b[36m0:00:00\u001b[0m\n",
            "\u001b[?25hDownloading kt_legacy-1.0.5-py3-none-any.whl (9.6 kB)\n",
            "Installing collected packages: kt-legacy, keras-tuner\n",
            "Successfully installed keras-tuner-1.4.7 kt-legacy-1.0.5\n"
          ]
        }
      ]
    },
    {
      "cell_type": "code",
      "execution_count": 3,
      "metadata": {
        "id": "aCJNk1EXMlPE"
      },
      "outputs": [],
      "source": [
        "import pandas as pd\n",
        "import numpy as np\n",
        "import matplotlib.pyplot as plt\n",
        "import seaborn as sns\n",
        "\n",
        "from sklearn.model_selection import train_test_split\n",
        "from sklearn.preprocessing import StandardScaler, LabelEncoder\n",
        "from sklearn.metrics import accuracy_score, classification_report, confusion_matrix, ConfusionMatrixDisplay, precision_score, recall_score, f1_score\n",
        "from sklearn.model_selection import GridSearchCV\n",
        "\n",
        "from imblearn.over_sampling import SMOTE\n",
        "\n",
        "from sklearn.ensemble import RandomForestClassifier\n",
        "from sklearn.neighbors import KNeighborsClassifier\n",
        "from xgboost import XGBClassifier\n",
        "from sklearn.neural_network import MLPClassifier\n",
        "\n",
        "import tensorflow as tf\n",
        "from tensorflow.keras.models import Sequential\n",
        "from tensorflow.keras.layers import Dense, Dropout\n",
        "from tensorflow.keras.callbacks import EarlyStopping\n",
        "from tensorflow.keras.utils import to_categorical\n",
        "\n",
        "import joblib"
      ]
    },
    {
      "cell_type": "markdown",
      "source": [
        "## 2. Data Preparation"
      ],
      "metadata": {
        "id": "PvCEjZN0O_Gx"
      }
    },
    {
      "cell_type": "code",
      "source": [
        "# Load dataset dari GitHub\n",
        "url = 'https://raw.githubusercontent.com/melshitaardia/Weather-Prediction/main/datacuaca_BMKG.csv'\n",
        "df = pd.read_csv(url)\n",
        "\n",
        "# Tampilkan 5 data teratas\n",
        "df.head()"
      ],
      "metadata": {
        "colab": {
          "base_uri": "https://localhost:8080/",
          "height": 313
        },
        "id": "XufA73VvO-Mg",
        "outputId": "9383b0cd-072b-4791-eb31-2cceb229e84f"
      },
      "execution_count": 4,
      "outputs": [
        {
          "output_type": "execute_result",
          "data": {
            "text/plain": [
              "      tanggal  temp_min_c  temp_max_c  temp_avg_c  humidity_avg_percent  \\\n",
              "0  2013-01-01        24.0        31.8        26.2                  91.0   \n",
              "1  2013-02-01        25.0        31.4        27.9                  79.0   \n",
              "2  2013-03-01        26.0        32.6        28.6                  79.0   \n",
              "3  2013-04-01        25.0        30.2        26.3                  86.0   \n",
              "4  2013-05-01        24.0        30.8        26.6                  82.0   \n",
              "\n",
              "   precip_mm  sunshine_duration_hours  wind_speed_max_ms  wind_dir_max_deg  \\\n",
              "0        1.7                      3.5                  6               310   \n",
              "1        0.0                      1.2                  4               300   \n",
              "2        1.3                      3.5                  5               320   \n",
              "3       34.4                      0.4                  9               270   \n",
              "4        6.4                      4.8                  7               270   \n",
              "\n",
              "   wind_speed_avg_ms wind_dir_common_deg  \\\n",
              "0                  3                  NW   \n",
              "1                  3                  NW   \n",
              "2                  4                  NW   \n",
              "3                  5                   W   \n",
              "4                  4                   W   \n",
              "\n",
              "                              source_file  \n",
              "0  laporan_iklim_harian-250525120910.xlsx  \n",
              "1  laporan_iklim_harian-250525120910.xlsx  \n",
              "2  laporan_iklim_harian-250525120910.xlsx  \n",
              "3  laporan_iklim_harian-250525120910.xlsx  \n",
              "4  laporan_iklim_harian-250525120910.xlsx  "
            ],
            "text/html": [
              "\n",
              "  <div id=\"df-47518992-2fb5-44ed-86b0-3bcbb974427d\" class=\"colab-df-container\">\n",
              "    <div>\n",
              "<style scoped>\n",
              "    .dataframe tbody tr th:only-of-type {\n",
              "        vertical-align: middle;\n",
              "    }\n",
              "\n",
              "    .dataframe tbody tr th {\n",
              "        vertical-align: top;\n",
              "    }\n",
              "\n",
              "    .dataframe thead th {\n",
              "        text-align: right;\n",
              "    }\n",
              "</style>\n",
              "<table border=\"1\" class=\"dataframe\">\n",
              "  <thead>\n",
              "    <tr style=\"text-align: right;\">\n",
              "      <th></th>\n",
              "      <th>tanggal</th>\n",
              "      <th>temp_min_c</th>\n",
              "      <th>temp_max_c</th>\n",
              "      <th>temp_avg_c</th>\n",
              "      <th>humidity_avg_percent</th>\n",
              "      <th>precip_mm</th>\n",
              "      <th>sunshine_duration_hours</th>\n",
              "      <th>wind_speed_max_ms</th>\n",
              "      <th>wind_dir_max_deg</th>\n",
              "      <th>wind_speed_avg_ms</th>\n",
              "      <th>wind_dir_common_deg</th>\n",
              "      <th>source_file</th>\n",
              "    </tr>\n",
              "  </thead>\n",
              "  <tbody>\n",
              "    <tr>\n",
              "      <th>0</th>\n",
              "      <td>2013-01-01</td>\n",
              "      <td>24.0</td>\n",
              "      <td>31.8</td>\n",
              "      <td>26.2</td>\n",
              "      <td>91.0</td>\n",
              "      <td>1.7</td>\n",
              "      <td>3.5</td>\n",
              "      <td>6</td>\n",
              "      <td>310</td>\n",
              "      <td>3</td>\n",
              "      <td>NW</td>\n",
              "      <td>laporan_iklim_harian-250525120910.xlsx</td>\n",
              "    </tr>\n",
              "    <tr>\n",
              "      <th>1</th>\n",
              "      <td>2013-02-01</td>\n",
              "      <td>25.0</td>\n",
              "      <td>31.4</td>\n",
              "      <td>27.9</td>\n",
              "      <td>79.0</td>\n",
              "      <td>0.0</td>\n",
              "      <td>1.2</td>\n",
              "      <td>4</td>\n",
              "      <td>300</td>\n",
              "      <td>3</td>\n",
              "      <td>NW</td>\n",
              "      <td>laporan_iklim_harian-250525120910.xlsx</td>\n",
              "    </tr>\n",
              "    <tr>\n",
              "      <th>2</th>\n",
              "      <td>2013-03-01</td>\n",
              "      <td>26.0</td>\n",
              "      <td>32.6</td>\n",
              "      <td>28.6</td>\n",
              "      <td>79.0</td>\n",
              "      <td>1.3</td>\n",
              "      <td>3.5</td>\n",
              "      <td>5</td>\n",
              "      <td>320</td>\n",
              "      <td>4</td>\n",
              "      <td>NW</td>\n",
              "      <td>laporan_iklim_harian-250525120910.xlsx</td>\n",
              "    </tr>\n",
              "    <tr>\n",
              "      <th>3</th>\n",
              "      <td>2013-04-01</td>\n",
              "      <td>25.0</td>\n",
              "      <td>30.2</td>\n",
              "      <td>26.3</td>\n",
              "      <td>86.0</td>\n",
              "      <td>34.4</td>\n",
              "      <td>0.4</td>\n",
              "      <td>9</td>\n",
              "      <td>270</td>\n",
              "      <td>5</td>\n",
              "      <td>W</td>\n",
              "      <td>laporan_iklim_harian-250525120910.xlsx</td>\n",
              "    </tr>\n",
              "    <tr>\n",
              "      <th>4</th>\n",
              "      <td>2013-05-01</td>\n",
              "      <td>24.0</td>\n",
              "      <td>30.8</td>\n",
              "      <td>26.6</td>\n",
              "      <td>82.0</td>\n",
              "      <td>6.4</td>\n",
              "      <td>4.8</td>\n",
              "      <td>7</td>\n",
              "      <td>270</td>\n",
              "      <td>4</td>\n",
              "      <td>W</td>\n",
              "      <td>laporan_iklim_harian-250525120910.xlsx</td>\n",
              "    </tr>\n",
              "  </tbody>\n",
              "</table>\n",
              "</div>\n",
              "    <div class=\"colab-df-buttons\">\n",
              "\n",
              "  <div class=\"colab-df-container\">\n",
              "    <button class=\"colab-df-convert\" onclick=\"convertToInteractive('df-47518992-2fb5-44ed-86b0-3bcbb974427d')\"\n",
              "            title=\"Convert this dataframe to an interactive table.\"\n",
              "            style=\"display:none;\">\n",
              "\n",
              "  <svg xmlns=\"http://www.w3.org/2000/svg\" height=\"24px\" viewBox=\"0 -960 960 960\">\n",
              "    <path d=\"M120-120v-720h720v720H120Zm60-500h600v-160H180v160Zm220 220h160v-160H400v160Zm0 220h160v-160H400v160ZM180-400h160v-160H180v160Zm440 0h160v-160H620v160ZM180-180h160v-160H180v160Zm440 0h160v-160H620v160Z\"/>\n",
              "  </svg>\n",
              "    </button>\n",
              "\n",
              "  <style>\n",
              "    .colab-df-container {\n",
              "      display:flex;\n",
              "      gap: 12px;\n",
              "    }\n",
              "\n",
              "    .colab-df-convert {\n",
              "      background-color: #E8F0FE;\n",
              "      border: none;\n",
              "      border-radius: 50%;\n",
              "      cursor: pointer;\n",
              "      display: none;\n",
              "      fill: #1967D2;\n",
              "      height: 32px;\n",
              "      padding: 0 0 0 0;\n",
              "      width: 32px;\n",
              "    }\n",
              "\n",
              "    .colab-df-convert:hover {\n",
              "      background-color: #E2EBFA;\n",
              "      box-shadow: 0px 1px 2px rgba(60, 64, 67, 0.3), 0px 1px 3px 1px rgba(60, 64, 67, 0.15);\n",
              "      fill: #174EA6;\n",
              "    }\n",
              "\n",
              "    .colab-df-buttons div {\n",
              "      margin-bottom: 4px;\n",
              "    }\n",
              "\n",
              "    [theme=dark] .colab-df-convert {\n",
              "      background-color: #3B4455;\n",
              "      fill: #D2E3FC;\n",
              "    }\n",
              "\n",
              "    [theme=dark] .colab-df-convert:hover {\n",
              "      background-color: #434B5C;\n",
              "      box-shadow: 0px 1px 3px 1px rgba(0, 0, 0, 0.15);\n",
              "      filter: drop-shadow(0px 1px 2px rgba(0, 0, 0, 0.3));\n",
              "      fill: #FFFFFF;\n",
              "    }\n",
              "  </style>\n",
              "\n",
              "    <script>\n",
              "      const buttonEl =\n",
              "        document.querySelector('#df-47518992-2fb5-44ed-86b0-3bcbb974427d button.colab-df-convert');\n",
              "      buttonEl.style.display =\n",
              "        google.colab.kernel.accessAllowed ? 'block' : 'none';\n",
              "\n",
              "      async function convertToInteractive(key) {\n",
              "        const element = document.querySelector('#df-47518992-2fb5-44ed-86b0-3bcbb974427d');\n",
              "        const dataTable =\n",
              "          await google.colab.kernel.invokeFunction('convertToInteractive',\n",
              "                                                    [key], {});\n",
              "        if (!dataTable) return;\n",
              "\n",
              "        const docLinkHtml = 'Like what you see? Visit the ' +\n",
              "          '<a target=\"_blank\" href=https://colab.research.google.com/notebooks/data_table.ipynb>data table notebook</a>'\n",
              "          + ' to learn more about interactive tables.';\n",
              "        element.innerHTML = '';\n",
              "        dataTable['output_type'] = 'display_data';\n",
              "        await google.colab.output.renderOutput(dataTable, element);\n",
              "        const docLink = document.createElement('div');\n",
              "        docLink.innerHTML = docLinkHtml;\n",
              "        element.appendChild(docLink);\n",
              "      }\n",
              "    </script>\n",
              "  </div>\n",
              "\n",
              "\n",
              "    <div id=\"df-0b7bf48d-51b2-4b9e-8ed3-d25ef8f844f7\">\n",
              "      <button class=\"colab-df-quickchart\" onclick=\"quickchart('df-0b7bf48d-51b2-4b9e-8ed3-d25ef8f844f7')\"\n",
              "                title=\"Suggest charts\"\n",
              "                style=\"display:none;\">\n",
              "\n",
              "<svg xmlns=\"http://www.w3.org/2000/svg\" height=\"24px\"viewBox=\"0 0 24 24\"\n",
              "     width=\"24px\">\n",
              "    <g>\n",
              "        <path d=\"M19 3H5c-1.1 0-2 .9-2 2v14c0 1.1.9 2 2 2h14c1.1 0 2-.9 2-2V5c0-1.1-.9-2-2-2zM9 17H7v-7h2v7zm4 0h-2V7h2v10zm4 0h-2v-4h2v4z\"/>\n",
              "    </g>\n",
              "</svg>\n",
              "      </button>\n",
              "\n",
              "<style>\n",
              "  .colab-df-quickchart {\n",
              "      --bg-color: #E8F0FE;\n",
              "      --fill-color: #1967D2;\n",
              "      --hover-bg-color: #E2EBFA;\n",
              "      --hover-fill-color: #174EA6;\n",
              "      --disabled-fill-color: #AAA;\n",
              "      --disabled-bg-color: #DDD;\n",
              "  }\n",
              "\n",
              "  [theme=dark] .colab-df-quickchart {\n",
              "      --bg-color: #3B4455;\n",
              "      --fill-color: #D2E3FC;\n",
              "      --hover-bg-color: #434B5C;\n",
              "      --hover-fill-color: #FFFFFF;\n",
              "      --disabled-bg-color: #3B4455;\n",
              "      --disabled-fill-color: #666;\n",
              "  }\n",
              "\n",
              "  .colab-df-quickchart {\n",
              "    background-color: var(--bg-color);\n",
              "    border: none;\n",
              "    border-radius: 50%;\n",
              "    cursor: pointer;\n",
              "    display: none;\n",
              "    fill: var(--fill-color);\n",
              "    height: 32px;\n",
              "    padding: 0;\n",
              "    width: 32px;\n",
              "  }\n",
              "\n",
              "  .colab-df-quickchart:hover {\n",
              "    background-color: var(--hover-bg-color);\n",
              "    box-shadow: 0 1px 2px rgba(60, 64, 67, 0.3), 0 1px 3px 1px rgba(60, 64, 67, 0.15);\n",
              "    fill: var(--button-hover-fill-color);\n",
              "  }\n",
              "\n",
              "  .colab-df-quickchart-complete:disabled,\n",
              "  .colab-df-quickchart-complete:disabled:hover {\n",
              "    background-color: var(--disabled-bg-color);\n",
              "    fill: var(--disabled-fill-color);\n",
              "    box-shadow: none;\n",
              "  }\n",
              "\n",
              "  .colab-df-spinner {\n",
              "    border: 2px solid var(--fill-color);\n",
              "    border-color: transparent;\n",
              "    border-bottom-color: var(--fill-color);\n",
              "    animation:\n",
              "      spin 1s steps(1) infinite;\n",
              "  }\n",
              "\n",
              "  @keyframes spin {\n",
              "    0% {\n",
              "      border-color: transparent;\n",
              "      border-bottom-color: var(--fill-color);\n",
              "      border-left-color: var(--fill-color);\n",
              "    }\n",
              "    20% {\n",
              "      border-color: transparent;\n",
              "      border-left-color: var(--fill-color);\n",
              "      border-top-color: var(--fill-color);\n",
              "    }\n",
              "    30% {\n",
              "      border-color: transparent;\n",
              "      border-left-color: var(--fill-color);\n",
              "      border-top-color: var(--fill-color);\n",
              "      border-right-color: var(--fill-color);\n",
              "    }\n",
              "    40% {\n",
              "      border-color: transparent;\n",
              "      border-right-color: var(--fill-color);\n",
              "      border-top-color: var(--fill-color);\n",
              "    }\n",
              "    60% {\n",
              "      border-color: transparent;\n",
              "      border-right-color: var(--fill-color);\n",
              "    }\n",
              "    80% {\n",
              "      border-color: transparent;\n",
              "      border-right-color: var(--fill-color);\n",
              "      border-bottom-color: var(--fill-color);\n",
              "    }\n",
              "    90% {\n",
              "      border-color: transparent;\n",
              "      border-bottom-color: var(--fill-color);\n",
              "    }\n",
              "  }\n",
              "</style>\n",
              "\n",
              "      <script>\n",
              "        async function quickchart(key) {\n",
              "          const quickchartButtonEl =\n",
              "            document.querySelector('#' + key + ' button');\n",
              "          quickchartButtonEl.disabled = true;  // To prevent multiple clicks.\n",
              "          quickchartButtonEl.classList.add('colab-df-spinner');\n",
              "          try {\n",
              "            const charts = await google.colab.kernel.invokeFunction(\n",
              "                'suggestCharts', [key], {});\n",
              "          } catch (error) {\n",
              "            console.error('Error during call to suggestCharts:', error);\n",
              "          }\n",
              "          quickchartButtonEl.classList.remove('colab-df-spinner');\n",
              "          quickchartButtonEl.classList.add('colab-df-quickchart-complete');\n",
              "        }\n",
              "        (() => {\n",
              "          let quickchartButtonEl =\n",
              "            document.querySelector('#df-0b7bf48d-51b2-4b9e-8ed3-d25ef8f844f7 button');\n",
              "          quickchartButtonEl.style.display =\n",
              "            google.colab.kernel.accessAllowed ? 'block' : 'none';\n",
              "        })();\n",
              "      </script>\n",
              "    </div>\n",
              "\n",
              "    </div>\n",
              "  </div>\n"
            ],
            "application/vnd.google.colaboratory.intrinsic+json": {
              "type": "dataframe",
              "variable_name": "df",
              "summary": "{\n  \"name\": \"df\",\n  \"rows\": 3465,\n  \"fields\": [\n    {\n      \"column\": \"tanggal\",\n      \"properties\": {\n        \"dtype\": \"string\",\n        \"num_unique_values\": 3458,\n        \"samples\": [\n          \"2020-09-14\",\n          \"2013-02-24\",\n          \"2013-04-08\"\n        ],\n        \"semantic_type\": \"\",\n        \"description\": \"\"\n      }\n    },\n    {\n      \"column\": \"temp_min_c\",\n      \"properties\": {\n        \"dtype\": \"number\",\n        \"std\": 1.0346990801663516,\n        \"min\": 22.0,\n        \"max\": 28.3,\n        \"num_unique_values\": 43,\n        \"samples\": [\n          25.5,\n          25.4,\n          25.6\n        ],\n        \"semantic_type\": \"\",\n        \"description\": \"\"\n      }\n    },\n    {\n      \"column\": \"temp_max_c\",\n      \"properties\": {\n        \"dtype\": \"number\",\n        \"std\": 1.5761239391829256,\n        \"min\": 24.6,\n        \"max\": 37.0,\n        \"num_unique_values\": 81,\n        \"samples\": [\n          32.4,\n          31.8,\n          32.8\n        ],\n        \"semantic_type\": \"\",\n        \"description\": \"\"\n      }\n    },\n    {\n      \"column\": \"temp_avg_c\",\n      \"properties\": {\n        \"dtype\": \"number\",\n        \"std\": 1.0884538453047892,\n        \"min\": 24.1,\n        \"max\": 34.3,\n        \"num_unique_values\": 74,\n        \"samples\": [\n          26.6,\n          30.6,\n          28.0\n        ],\n        \"semantic_type\": \"\",\n        \"description\": \"\"\n      }\n    },\n    {\n      \"column\": \"humidity_avg_percent\",\n      \"properties\": {\n        \"dtype\": \"number\",\n        \"std\": 6.410290116799894,\n        \"min\": 52.0,\n        \"max\": 96.0,\n        \"num_unique_values\": 43,\n        \"samples\": [\n          60.0,\n          83.0,\n          67.0\n        ],\n        \"semantic_type\": \"\",\n        \"description\": \"\"\n      }\n    },\n    {\n      \"column\": \"precip_mm\",\n      \"properties\": {\n        \"dtype\": \"number\",\n        \"std\": 17.81350477075312,\n        \"min\": 0.0,\n        \"max\": 277.5,\n        \"num_unique_values\": 434,\n        \"samples\": [\n          81.4,\n          0.7,\n          27.6\n        ],\n        \"semantic_type\": \"\",\n        \"description\": \"\"\n      }\n    },\n    {\n      \"column\": \"sunshine_duration_hours\",\n      \"properties\": {\n        \"dtype\": \"number\",\n        \"std\": 2.573767419088083,\n        \"min\": 0.0,\n        \"max\": 10.5,\n        \"num_unique_values\": 104,\n        \"samples\": [\n          1.6,\n          0.7,\n          3.4\n        ],\n        \"semantic_type\": \"\",\n        \"description\": \"\"\n      }\n    },\n    {\n      \"column\": \"wind_speed_max_ms\",\n      \"properties\": {\n        \"dtype\": \"number\",\n        \"std\": 1,\n        \"min\": 0,\n        \"max\": 15,\n        \"num_unique_values\": 13,\n        \"samples\": [\n          15,\n          3,\n          6\n        ],\n        \"semantic_type\": \"\",\n        \"description\": \"\"\n      }\n    },\n    {\n      \"column\": \"wind_dir_max_deg\",\n      \"properties\": {\n        \"dtype\": \"number\",\n        \"std\": 107,\n        \"min\": 0,\n        \"max\": 360,\n        \"num_unique_values\": 46,\n        \"samples\": [\n          315,\n          80,\n          170\n        ],\n        \"semantic_type\": \"\",\n        \"description\": \"\"\n      }\n    },\n    {\n      \"column\": \"wind_speed_avg_ms\",\n      \"properties\": {\n        \"dtype\": \"number\",\n        \"std\": 0,\n        \"min\": 0,\n        \"max\": 5,\n        \"num_unique_values\": 6,\n        \"samples\": [\n          3,\n          4,\n          0\n        ],\n        \"semantic_type\": \"\",\n        \"description\": \"\"\n      }\n    },\n    {\n      \"column\": \"wind_dir_common_deg\",\n      \"properties\": {\n        \"dtype\": \"category\",\n        \"num_unique_values\": 9,\n        \"samples\": [\n          \"SE\",\n          \"W\",\n          \"E\"\n        ],\n        \"semantic_type\": \"\",\n        \"description\": \"\"\n      }\n    },\n    {\n      \"column\": \"source_file\",\n      \"properties\": {\n        \"dtype\": \"category\",\n        \"num_unique_values\": 144,\n        \"samples\": [\n          \"laporan_iklim_harian-250525093746.xlsx\",\n          \"laporan_iklim_harian-250525120734.xlsx\",\n          \"laporan_iklim_harian-250525114639.xlsx\"\n        ],\n        \"semantic_type\": \"\",\n        \"description\": \"\"\n      }\n    }\n  ]\n}"
            }
          },
          "metadata": {},
          "execution_count": 4
        }
      ]
    },
    {
      "cell_type": "markdown",
      "source": [
        "## 3. Data Preprocessing"
      ],
      "metadata": {
        "id": "Cu1UBdBwPJbu"
      }
    },
    {
      "cell_type": "code",
      "source": [
        "# Buat label cuaca\n",
        "def generate_label(precip):\n",
        "    if precip <= 0.2:\n",
        "        return \"cerah\"\n",
        "    elif precip <= 1.0:\n",
        "        return \"mendung\"\n",
        "    else:\n",
        "        return \"hujan\"\n",
        "\n",
        "df['cuaca'] = df['precip_mm'].apply(generate_label)"
      ],
      "metadata": {
        "id": "ptaz90PfiqBt"
      },
      "execution_count": 5,
      "outputs": []
    },
    {
      "cell_type": "code",
      "source": [
        "df_cleaned = df.drop(columns=['tanggal', 'source_file', 'wind_dir_common_deg'])\n",
        "label_encoder = LabelEncoder()\n",
        "df_cleaned['cuaca_encoded'] = label_encoder.fit_transform(df_cleaned['cuaca'])\n",
        "\n",
        "X = df_cleaned.drop(columns=['cuaca', 'cuaca_encoded'])\n",
        "y = df_cleaned['cuaca_encoded']\n",
        "\n",
        "scaler = StandardScaler()\n",
        "X_scaled = scaler.fit_transform(X)"
      ],
      "metadata": {
        "id": "Uq5S4b4XkSHZ"
      },
      "execution_count": 6,
      "outputs": []
    },
    {
      "cell_type": "markdown",
      "source": [
        "### Data splitting"
      ],
      "metadata": {
        "id": "zI1WUUmqfySG"
      }
    },
    {
      "cell_type": "code",
      "source": [
        "X_train, X_temp, y_train, y_temp = train_test_split(X_scaled, y, test_size=0.3, stratify=y, random_state=42)\n",
        "X_val, X_test, y_val, y_test = train_test_split(X_temp, y_temp, test_size=0.5, stratify=y_temp, random_state=42)"
      ],
      "metadata": {
        "id": "KrvH6CQ1f06J"
      },
      "execution_count": 7,
      "outputs": []
    },
    {
      "cell_type": "markdown",
      "source": [
        "### Balancing (SMOTE)"
      ],
      "metadata": {
        "id": "h0noUL-Ls1EC"
      }
    },
    {
      "cell_type": "code",
      "source": [
        "smote = SMOTE(random_state=42)\n",
        "X_train_smote, y_train_smote = smote.fit_resample(X_train, y_train)"
      ],
      "metadata": {
        "id": "Aqspb_0UkbXn"
      },
      "execution_count": 8,
      "outputs": []
    },
    {
      "cell_type": "markdown",
      "source": [
        "## 5. Modeling"
      ],
      "metadata": {
        "id": "SzWevz-TSlJB"
      }
    },
    {
      "cell_type": "markdown",
      "source": [
        "### Random Forest Classifier"
      ],
      "metadata": {
        "id": "M2OPUJtpqFmE"
      }
    },
    {
      "cell_type": "code",
      "source": [
        "rf_clf = RandomForestClassifier(random_state=42)\n",
        "rf_clf.fit(X_train_smote, y_train_smote)\n",
        "\n",
        "rf_pred = rf_clf.predict(X_test)"
      ],
      "metadata": {
        "id": "OoU6FGe-qHs0"
      },
      "execution_count": 9,
      "outputs": []
    },
    {
      "cell_type": "markdown",
      "source": [
        "### KNN"
      ],
      "metadata": {
        "id": "RKkBwTTxqJZS"
      }
    },
    {
      "cell_type": "code",
      "source": [
        "knn_clf = KNeighborsClassifier(n_neighbors=5)\n",
        "knn_clf.fit(X_train_smote, y_train_smote)\n",
        "\n",
        "knn_pred = knn_clf.predict(X_test)"
      ],
      "metadata": {
        "id": "lEF9f1PwqKe8"
      },
      "execution_count": 10,
      "outputs": []
    },
    {
      "cell_type": "markdown",
      "source": [
        "### XGBoost Classifier"
      ],
      "metadata": {
        "id": "TayBxs8dqLXq"
      }
    },
    {
      "cell_type": "code",
      "source": [
        "xgb_clf = XGBClassifier(use_label_encoder=False, eval_metric='mlogloss', random_state=42)\n",
        "xgb_clf.fit(X_train_smote, y_train_smote)\n",
        "\n",
        "xgb_pred = xgb_clf.predict(X_test)"
      ],
      "metadata": {
        "colab": {
          "base_uri": "https://localhost:8080/"
        },
        "id": "HARslpPGqNkF",
        "outputId": "62507332-13f2-4c7f-945a-49b139707ab5"
      },
      "execution_count": 11,
      "outputs": [
        {
          "output_type": "stream",
          "name": "stderr",
          "text": [
            "/usr/local/lib/python3.11/dist-packages/xgboost/core.py:158: UserWarning: [14:01:16] WARNING: /workspace/src/learner.cc:740: \n",
            "Parameters: { \"use_label_encoder\" } are not used.\n",
            "\n",
            "  warnings.warn(smsg, UserWarning)\n"
          ]
        }
      ]
    },
    {
      "cell_type": "markdown",
      "source": [
        "### MLPClassifier"
      ],
      "metadata": {
        "id": "R6rgf54lqQrW"
      }
    },
    {
      "cell_type": "code",
      "source": [
        "mlp_clf = MLPClassifier(hidden_layer_sizes=(128, 64), max_iter=200, alpha=0.0001,\n",
        "                        solver='adam', random_state=42)\n",
        "mlp_clf.fit(X_train_smote, y_train_smote)\n",
        "\n",
        "mlp_pred = mlp_clf.predict(X_test)"
      ],
      "metadata": {
        "id": "sfeSj-gJqPvS"
      },
      "execution_count": 12,
      "outputs": []
    },
    {
      "cell_type": "markdown",
      "source": [
        "### TensorFlow MLP (Deep Learning)"
      ],
      "metadata": {
        "id": "w6BH1RhIqXYr"
      }
    },
    {
      "cell_type": "code",
      "source": [
        "model = Sequential([\n",
        "    Dense(128, activation='relu', input_shape=(X_train_smote.shape[1],)),\n",
        "    Dropout(0.3),\n",
        "    Dense(64, activation='relu'),\n",
        "    Dropout(0.3),\n",
        "    Dense(3, activation='softmax')  # 3 kelas\n",
        "])\n",
        "\n",
        "model.compile(optimizer='adam', loss='sparse_categorical_crossentropy', metrics=['accuracy'])\n",
        "\n",
        "early_stop = EarlyStopping(monitor='val_loss', patience=10, restore_best_weights=True)\n",
        "\n",
        "history = model.fit(\n",
        "    X_train_smote, y_train_smote,\n",
        "    validation_data=(X_val, y_val),\n",
        "    epochs=100,\n",
        "    batch_size=32,\n",
        "    callbacks=[early_stop],\n",
        "    verbose=1\n",
        ")\n",
        "\n",
        "# Prediksi TensorFlow model\n",
        "tf_pred_probs = model.predict(X_test)\n",
        "tf_pred_classes = tf.argmax(tf_pred_probs, axis=1).numpy()"
      ],
      "metadata": {
        "colab": {
          "base_uri": "https://localhost:8080/"
        },
        "id": "wpZczGPiqcJO",
        "outputId": "8a6cc022-3525-407e-cfdd-4e113dbf23a2"
      },
      "execution_count": 13,
      "outputs": [
        {
          "output_type": "stream",
          "name": "stderr",
          "text": [
            "/usr/local/lib/python3.11/dist-packages/keras/src/layers/core/dense.py:87: UserWarning: Do not pass an `input_shape`/`input_dim` argument to a layer. When using Sequential models, prefer using an `Input(shape)` object as the first layer in the model instead.\n",
            "  super().__init__(activity_regularizer=activity_regularizer, **kwargs)\n"
          ]
        },
        {
          "output_type": "stream",
          "name": "stdout",
          "text": [
            "Epoch 1/100\n",
            "\u001b[1m129/129\u001b[0m \u001b[32m━━━━━━━━━━━━━━━━━━━━\u001b[0m\u001b[37m\u001b[0m \u001b[1m6s\u001b[0m 19ms/step - accuracy: 0.5014 - loss: 0.9681 - val_accuracy: 0.7346 - val_loss: 0.6301\n",
            "Epoch 2/100\n",
            "\u001b[1m129/129\u001b[0m \u001b[32m━━━━━━━━━━━━━━━━━━━━\u001b[0m\u001b[37m\u001b[0m \u001b[1m1s\u001b[0m 4ms/step - accuracy: 0.7028 - loss: 0.6744 - val_accuracy: 0.7654 - val_loss: 0.5413\n",
            "Epoch 3/100\n",
            "\u001b[1m129/129\u001b[0m \u001b[32m━━━━━━━━━━━━━━━━━━━━\u001b[0m\u001b[37m\u001b[0m \u001b[1m1s\u001b[0m 5ms/step - accuracy: 0.7652 - loss: 0.5717 - val_accuracy: 0.7808 - val_loss: 0.4845\n",
            "Epoch 4/100\n",
            "\u001b[1m129/129\u001b[0m \u001b[32m━━━━━━━━━━━━━━━━━━━━\u001b[0m\u001b[37m\u001b[0m \u001b[1m1s\u001b[0m 5ms/step - accuracy: 0.7883 - loss: 0.5185 - val_accuracy: 0.7750 - val_loss: 0.4803\n",
            "Epoch 5/100\n",
            "\u001b[1m129/129\u001b[0m \u001b[32m━━━━━━━━━━━━━━━━━━━━\u001b[0m\u001b[37m\u001b[0m \u001b[1m0s\u001b[0m 3ms/step - accuracy: 0.7956 - loss: 0.4890 - val_accuracy: 0.7596 - val_loss: 0.5008\n",
            "Epoch 6/100\n",
            "\u001b[1m129/129\u001b[0m \u001b[32m━━━━━━━━━━━━━━━━━━━━\u001b[0m\u001b[37m\u001b[0m \u001b[1m1s\u001b[0m 3ms/step - accuracy: 0.8171 - loss: 0.4587 - val_accuracy: 0.7750 - val_loss: 0.4674\n",
            "Epoch 7/100\n",
            "\u001b[1m129/129\u001b[0m \u001b[32m━━━━━━━━━━━━━━━━━━━━\u001b[0m\u001b[37m\u001b[0m \u001b[1m0s\u001b[0m 3ms/step - accuracy: 0.8257 - loss: 0.4332 - val_accuracy: 0.7712 - val_loss: 0.4634\n",
            "Epoch 8/100\n",
            "\u001b[1m129/129\u001b[0m \u001b[32m━━━━━━━━━━━━━━━━━━━━\u001b[0m\u001b[37m\u001b[0m \u001b[1m0s\u001b[0m 3ms/step - accuracy: 0.8270 - loss: 0.4249 - val_accuracy: 0.7827 - val_loss: 0.4420\n",
            "Epoch 9/100\n",
            "\u001b[1m129/129\u001b[0m \u001b[32m━━━━━━━━━━━━━━━━━━━━\u001b[0m\u001b[37m\u001b[0m \u001b[1m0s\u001b[0m 3ms/step - accuracy: 0.8402 - loss: 0.4032 - val_accuracy: 0.7712 - val_loss: 0.4337\n",
            "Epoch 10/100\n",
            "\u001b[1m129/129\u001b[0m \u001b[32m━━━━━━━━━━━━━━━━━━━━\u001b[0m\u001b[37m\u001b[0m \u001b[1m0s\u001b[0m 3ms/step - accuracy: 0.8486 - loss: 0.3800 - val_accuracy: 0.8269 - val_loss: 0.3493\n",
            "Epoch 11/100\n",
            "\u001b[1m129/129\u001b[0m \u001b[32m━━━━━━━━━━━━━━━━━━━━\u001b[0m\u001b[37m\u001b[0m \u001b[1m1s\u001b[0m 3ms/step - accuracy: 0.8544 - loss: 0.3605 - val_accuracy: 0.8423 - val_loss: 0.3243\n",
            "Epoch 12/100\n",
            "\u001b[1m129/129\u001b[0m \u001b[32m━━━━━━━━━━━━━━━━━━━━\u001b[0m\u001b[37m\u001b[0m \u001b[1m0s\u001b[0m 3ms/step - accuracy: 0.8826 - loss: 0.3162 - val_accuracy: 0.8385 - val_loss: 0.3266\n",
            "Epoch 13/100\n",
            "\u001b[1m129/129\u001b[0m \u001b[32m━━━━━━━━━━━━━━━━━━━━\u001b[0m\u001b[37m\u001b[0m \u001b[1m0s\u001b[0m 3ms/step - accuracy: 0.8779 - loss: 0.3100 - val_accuracy: 0.8327 - val_loss: 0.3307\n",
            "Epoch 14/100\n",
            "\u001b[1m129/129\u001b[0m \u001b[32m━━━━━━━━━━━━━━━━━━━━\u001b[0m\u001b[37m\u001b[0m \u001b[1m1s\u001b[0m 3ms/step - accuracy: 0.8791 - loss: 0.2942 - val_accuracy: 0.8692 - val_loss: 0.2634\n",
            "Epoch 15/100\n",
            "\u001b[1m129/129\u001b[0m \u001b[32m━━━━━━━━━━━━━━━━━━━━\u001b[0m\u001b[37m\u001b[0m \u001b[1m1s\u001b[0m 3ms/step - accuracy: 0.8957 - loss: 0.2718 - val_accuracy: 0.8692 - val_loss: 0.2592\n",
            "Epoch 16/100\n",
            "\u001b[1m129/129\u001b[0m \u001b[32m━━━━━━━━━━━━━━━━━━━━\u001b[0m\u001b[37m\u001b[0m \u001b[1m0s\u001b[0m 3ms/step - accuracy: 0.8963 - loss: 0.2505 - val_accuracy: 0.8942 - val_loss: 0.2239\n",
            "Epoch 17/100\n",
            "\u001b[1m129/129\u001b[0m \u001b[32m━━━━━━━━━━━━━━━━━━━━\u001b[0m\u001b[37m\u001b[0m \u001b[1m1s\u001b[0m 3ms/step - accuracy: 0.9209 - loss: 0.2148 - val_accuracy: 0.9231 - val_loss: 0.1856\n",
            "Epoch 18/100\n",
            "\u001b[1m129/129\u001b[0m \u001b[32m━━━━━━━━━━━━━━━━━━━━\u001b[0m\u001b[37m\u001b[0m \u001b[1m1s\u001b[0m 3ms/step - accuracy: 0.9328 - loss: 0.1979 - val_accuracy: 0.9212 - val_loss: 0.1794\n",
            "Epoch 19/100\n",
            "\u001b[1m129/129\u001b[0m \u001b[32m━━━━━━━━━━━━━━━━━━━━\u001b[0m\u001b[37m\u001b[0m \u001b[1m1s\u001b[0m 3ms/step - accuracy: 0.9391 - loss: 0.1743 - val_accuracy: 0.9346 - val_loss: 0.1722\n",
            "Epoch 20/100\n",
            "\u001b[1m129/129\u001b[0m \u001b[32m━━━━━━━━━━━━━━━━━━━━\u001b[0m\u001b[37m\u001b[0m \u001b[1m0s\u001b[0m 3ms/step - accuracy: 0.9293 - loss: 0.1842 - val_accuracy: 0.9288 - val_loss: 0.1656\n",
            "Epoch 21/100\n",
            "\u001b[1m129/129\u001b[0m \u001b[32m━━━━━━━━━━━━━━━━━━━━\u001b[0m\u001b[37m\u001b[0m \u001b[1m1s\u001b[0m 3ms/step - accuracy: 0.9562 - loss: 0.1393 - val_accuracy: 0.9558 - val_loss: 0.1134\n",
            "Epoch 22/100\n",
            "\u001b[1m129/129\u001b[0m \u001b[32m━━━━━━━━━━━━━━━━━━━━\u001b[0m\u001b[37m\u001b[0m \u001b[1m0s\u001b[0m 3ms/step - accuracy: 0.9517 - loss: 0.1351 - val_accuracy: 0.9558 - val_loss: 0.1062\n",
            "Epoch 23/100\n",
            "\u001b[1m129/129\u001b[0m \u001b[32m━━━━━━━━━━━━━━━━━━━━\u001b[0m\u001b[37m\u001b[0m \u001b[1m1s\u001b[0m 3ms/step - accuracy: 0.9612 - loss: 0.1152 - val_accuracy: 0.9635 - val_loss: 0.0887\n",
            "Epoch 24/100\n",
            "\u001b[1m129/129\u001b[0m \u001b[32m━━━━━━━━━━━━━━━━━━━━\u001b[0m\u001b[37m\u001b[0m \u001b[1m1s\u001b[0m 4ms/step - accuracy: 0.9592 - loss: 0.1199 - val_accuracy: 0.9712 - val_loss: 0.0830\n",
            "Epoch 25/100\n",
            "\u001b[1m129/129\u001b[0m \u001b[32m━━━━━━━━━━━━━━━━━━━━\u001b[0m\u001b[37m\u001b[0m \u001b[1m1s\u001b[0m 5ms/step - accuracy: 0.9671 - loss: 0.0978 - val_accuracy: 0.9692 - val_loss: 0.0824\n",
            "Epoch 26/100\n",
            "\u001b[1m129/129\u001b[0m \u001b[32m━━━━━━━━━━━━━━━━━━━━\u001b[0m\u001b[37m\u001b[0m \u001b[1m1s\u001b[0m 3ms/step - accuracy: 0.9637 - loss: 0.1032 - val_accuracy: 0.9769 - val_loss: 0.0884\n",
            "Epoch 27/100\n",
            "\u001b[1m129/129\u001b[0m \u001b[32m━━━━━━━━━━━━━━━━━━━━\u001b[0m\u001b[37m\u001b[0m \u001b[1m0s\u001b[0m 3ms/step - accuracy: 0.9782 - loss: 0.0762 - val_accuracy: 0.9750 - val_loss: 0.0713\n",
            "Epoch 28/100\n",
            "\u001b[1m129/129\u001b[0m \u001b[32m━━━━━━━━━━━━━━━━━━━━\u001b[0m\u001b[37m\u001b[0m \u001b[1m1s\u001b[0m 3ms/step - accuracy: 0.9756 - loss: 0.0776 - val_accuracy: 0.9827 - val_loss: 0.0623\n",
            "Epoch 29/100\n",
            "\u001b[1m129/129\u001b[0m \u001b[32m━━━━━━━━━━━━━━━━━━━━\u001b[0m\u001b[37m\u001b[0m \u001b[1m1s\u001b[0m 3ms/step - accuracy: 0.9564 - loss: 0.1272 - val_accuracy: 0.9712 - val_loss: 0.0752\n",
            "Epoch 30/100\n",
            "\u001b[1m129/129\u001b[0m \u001b[32m━━━━━━━━━━━━━━━━━━━━\u001b[0m\u001b[37m\u001b[0m \u001b[1m0s\u001b[0m 3ms/step - accuracy: 0.9785 - loss: 0.0727 - val_accuracy: 0.9827 - val_loss: 0.0552\n",
            "Epoch 31/100\n",
            "\u001b[1m129/129\u001b[0m \u001b[32m━━━━━━━━━━━━━━━━━━━━\u001b[0m\u001b[37m\u001b[0m \u001b[1m1s\u001b[0m 3ms/step - accuracy: 0.9811 - loss: 0.0663 - val_accuracy: 0.9750 - val_loss: 0.0669\n",
            "Epoch 32/100\n",
            "\u001b[1m129/129\u001b[0m \u001b[32m━━━━━━━━━━━━━━━━━━━━\u001b[0m\u001b[37m\u001b[0m \u001b[1m1s\u001b[0m 3ms/step - accuracy: 0.9729 - loss: 0.0768 - val_accuracy: 0.9788 - val_loss: 0.0680\n",
            "Epoch 33/100\n",
            "\u001b[1m129/129\u001b[0m \u001b[32m━━━━━━━━━━━━━━━━━━━━\u001b[0m\u001b[37m\u001b[0m \u001b[1m0s\u001b[0m 3ms/step - accuracy: 0.9833 - loss: 0.0560 - val_accuracy: 0.9827 - val_loss: 0.0513\n",
            "Epoch 34/100\n",
            "\u001b[1m129/129\u001b[0m \u001b[32m━━━━━━━━━━━━━━━━━━━━\u001b[0m\u001b[37m\u001b[0m \u001b[1m0s\u001b[0m 3ms/step - accuracy: 0.9876 - loss: 0.0440 - val_accuracy: 0.9808 - val_loss: 0.0501\n",
            "Epoch 35/100\n",
            "\u001b[1m129/129\u001b[0m \u001b[32m━━━━━━━━━━━━━━━━━━━━\u001b[0m\u001b[37m\u001b[0m \u001b[1m1s\u001b[0m 3ms/step - accuracy: 0.9855 - loss: 0.0508 - val_accuracy: 0.9865 - val_loss: 0.0410\n",
            "Epoch 36/100\n",
            "\u001b[1m129/129\u001b[0m \u001b[32m━━━━━━━━━━━━━━━━━━━━\u001b[0m\u001b[37m\u001b[0m \u001b[1m0s\u001b[0m 3ms/step - accuracy: 0.9848 - loss: 0.0522 - val_accuracy: 0.9808 - val_loss: 0.0439\n",
            "Epoch 37/100\n",
            "\u001b[1m129/129\u001b[0m \u001b[32m━━━━━━━━━━━━━━━━━━━━\u001b[0m\u001b[37m\u001b[0m \u001b[1m1s\u001b[0m 3ms/step - accuracy: 0.9863 - loss: 0.0479 - val_accuracy: 0.9731 - val_loss: 0.0549\n",
            "Epoch 38/100\n",
            "\u001b[1m129/129\u001b[0m \u001b[32m━━━━━━━━━━━━━━━━━━━━\u001b[0m\u001b[37m\u001b[0m \u001b[1m1s\u001b[0m 3ms/step - accuracy: 0.9874 - loss: 0.0409 - val_accuracy: 0.9673 - val_loss: 0.1057\n",
            "Epoch 39/100\n",
            "\u001b[1m129/129\u001b[0m \u001b[32m━━━━━━━━━━━━━━━━━━━━\u001b[0m\u001b[37m\u001b[0m \u001b[1m1s\u001b[0m 3ms/step - accuracy: 0.9776 - loss: 0.0637 - val_accuracy: 0.9635 - val_loss: 0.0747\n",
            "Epoch 40/100\n",
            "\u001b[1m129/129\u001b[0m \u001b[32m━━━━━━━━━━━━━━━━━━━━\u001b[0m\u001b[37m\u001b[0m \u001b[1m1s\u001b[0m 3ms/step - accuracy: 0.9793 - loss: 0.0552 - val_accuracy: 0.9846 - val_loss: 0.0373\n",
            "Epoch 41/100\n",
            "\u001b[1m129/129\u001b[0m \u001b[32m━━━━━━━━━━━━━━━━━━━━\u001b[0m\u001b[37m\u001b[0m \u001b[1m0s\u001b[0m 3ms/step - accuracy: 0.9873 - loss: 0.0387 - val_accuracy: 0.9788 - val_loss: 0.0359\n",
            "Epoch 42/100\n",
            "\u001b[1m129/129\u001b[0m \u001b[32m━━━━━━━━━━━━━━━━━━━━\u001b[0m\u001b[37m\u001b[0m \u001b[1m0s\u001b[0m 3ms/step - accuracy: 0.9877 - loss: 0.0357 - val_accuracy: 0.9615 - val_loss: 0.0880\n",
            "Epoch 43/100\n",
            "\u001b[1m129/129\u001b[0m \u001b[32m━━━━━━━━━━━━━━━━━━━━\u001b[0m\u001b[37m\u001b[0m \u001b[1m1s\u001b[0m 3ms/step - accuracy: 0.9871 - loss: 0.0453 - val_accuracy: 0.9769 - val_loss: 0.0465\n",
            "Epoch 44/100\n",
            "\u001b[1m129/129\u001b[0m \u001b[32m━━━━━━━━━━━━━━━━━━━━\u001b[0m\u001b[37m\u001b[0m \u001b[1m0s\u001b[0m 3ms/step - accuracy: 0.9917 - loss: 0.0343 - val_accuracy: 0.9827 - val_loss: 0.0364\n",
            "Epoch 45/100\n",
            "\u001b[1m129/129\u001b[0m \u001b[32m━━━━━━━━━━━━━━━━━━━━\u001b[0m\u001b[37m\u001b[0m \u001b[1m1s\u001b[0m 4ms/step - accuracy: 0.9890 - loss: 0.0345 - val_accuracy: 0.9788 - val_loss: 0.0529\n",
            "Epoch 46/100\n",
            "\u001b[1m129/129\u001b[0m \u001b[32m━━━━━━━━━━━━━━━━━━━━\u001b[0m\u001b[37m\u001b[0m \u001b[1m1s\u001b[0m 5ms/step - accuracy: 0.9775 - loss: 0.0599 - val_accuracy: 0.9865 - val_loss: 0.0376\n",
            "Epoch 47/100\n",
            "\u001b[1m129/129\u001b[0m \u001b[32m━━━━━━━━━━━━━━━━━━━━\u001b[0m\u001b[37m\u001b[0m \u001b[1m1s\u001b[0m 5ms/step - accuracy: 0.9921 - loss: 0.0284 - val_accuracy: 0.9808 - val_loss: 0.0390\n",
            "Epoch 48/100\n",
            "\u001b[1m129/129\u001b[0m \u001b[32m━━━━━━━━━━━━━━━━━━━━\u001b[0m\u001b[37m\u001b[0m \u001b[1m1s\u001b[0m 4ms/step - accuracy: 0.9941 - loss: 0.0219 - val_accuracy: 0.9808 - val_loss: 0.0584\n",
            "Epoch 49/100\n",
            "\u001b[1m129/129\u001b[0m \u001b[32m━━━━━━━━━━━━━━━━━━━━\u001b[0m\u001b[37m\u001b[0m \u001b[1m1s\u001b[0m 3ms/step - accuracy: 0.9881 - loss: 0.0373 - val_accuracy: 0.9827 - val_loss: 0.0325\n",
            "Epoch 50/100\n",
            "\u001b[1m129/129\u001b[0m \u001b[32m━━━━━━━━━━━━━━━━━━━━\u001b[0m\u001b[37m\u001b[0m \u001b[1m0s\u001b[0m 3ms/step - accuracy: 0.9892 - loss: 0.0357 - val_accuracy: 0.9750 - val_loss: 0.0688\n",
            "Epoch 51/100\n",
            "\u001b[1m129/129\u001b[0m \u001b[32m━━━━━━━━━━━━━━━━━━━━\u001b[0m\u001b[37m\u001b[0m \u001b[1m1s\u001b[0m 3ms/step - accuracy: 0.9896 - loss: 0.0314 - val_accuracy: 0.9846 - val_loss: 0.0391\n",
            "Epoch 52/100\n",
            "\u001b[1m129/129\u001b[0m \u001b[32m━━━━━━━━━━━━━━━━━━━━\u001b[0m\u001b[37m\u001b[0m \u001b[1m1s\u001b[0m 3ms/step - accuracy: 0.9936 - loss: 0.0258 - val_accuracy: 0.9808 - val_loss: 0.0392\n",
            "Epoch 53/100\n",
            "\u001b[1m129/129\u001b[0m \u001b[32m━━━━━━━━━━━━━━━━━━━━\u001b[0m\u001b[37m\u001b[0m \u001b[1m0s\u001b[0m 3ms/step - accuracy: 0.9900 - loss: 0.0298 - val_accuracy: 0.9827 - val_loss: 0.0454\n",
            "Epoch 54/100\n",
            "\u001b[1m129/129\u001b[0m \u001b[32m━━━━━━━━━━━━━━━━━━━━\u001b[0m\u001b[37m\u001b[0m \u001b[1m0s\u001b[0m 3ms/step - accuracy: 0.9895 - loss: 0.0320 - val_accuracy: 0.9788 - val_loss: 0.0457\n",
            "Epoch 55/100\n",
            "\u001b[1m129/129\u001b[0m \u001b[32m━━━━━━━━━━━━━━━━━━━━\u001b[0m\u001b[37m\u001b[0m \u001b[1m0s\u001b[0m 3ms/step - accuracy: 0.9902 - loss: 0.0286 - val_accuracy: 0.9827 - val_loss: 0.0485\n",
            "Epoch 56/100\n",
            "\u001b[1m129/129\u001b[0m \u001b[32m━━━━━━━━━━━━━━━━━━━━\u001b[0m\u001b[37m\u001b[0m \u001b[1m0s\u001b[0m 3ms/step - accuracy: 0.9942 - loss: 0.0237 - val_accuracy: 0.9846 - val_loss: 0.0452\n",
            "Epoch 57/100\n",
            "\u001b[1m129/129\u001b[0m \u001b[32m━━━━━━━━━━━━━━━━━━━━\u001b[0m\u001b[37m\u001b[0m \u001b[1m0s\u001b[0m 3ms/step - accuracy: 0.9898 - loss: 0.0295 - val_accuracy: 0.9769 - val_loss: 0.0528\n",
            "Epoch 58/100\n",
            "\u001b[1m129/129\u001b[0m \u001b[32m━━━━━━━━━━━━━━━━━━━━\u001b[0m\u001b[37m\u001b[0m \u001b[1m0s\u001b[0m 3ms/step - accuracy: 0.9955 - loss: 0.0205 - val_accuracy: 0.9846 - val_loss: 0.0360\n",
            "Epoch 59/100\n",
            "\u001b[1m129/129\u001b[0m \u001b[32m━━━━━━━━━━━━━━━━━━━━\u001b[0m\u001b[37m\u001b[0m \u001b[1m0s\u001b[0m 3ms/step - accuracy: 0.9887 - loss: 0.0327 - val_accuracy: 0.9788 - val_loss: 0.0567\n",
            "\u001b[1m17/17\u001b[0m \u001b[32m━━━━━━━━━━━━━━━━━━━━\u001b[0m\u001b[37m\u001b[0m \u001b[1m0s\u001b[0m 12ms/step\n"
          ]
        }
      ]
    },
    {
      "cell_type": "markdown",
      "source": [
        "## 6. Evaluation dan Visualization"
      ],
      "metadata": {
        "id": "GRoaMsXU82HD"
      }
    },
    {
      "source": [
        "# List semua model prediksi\n",
        "model_names = ['Random Forest', 'XGBoost', 'KNN', 'MLP Sklearn', 'MLP TensorFlow']\n",
        "predictions = [rf_pred, xgb_pred, knn_pred, mlp_pred, tf_pred_classes]\n",
        "\n",
        "# Confusion Matrix dan Classification Report\n",
        "for name, pred in zip(model_names, predictions):\n",
        "    print(f\"\\n=== {name} ===\")\n",
        "    print(classification_report(y_test, pred, target_names=label_encoder.classes_))\n",
        "\n",
        "    cm = confusion_matrix(y_test, pred)\n",
        "    disp = ConfusionMatrixDisplay(confusion_matrix=cm, display_labels=label_encoder.classes_)\n",
        "    disp.plot(cmap='Blues')\n",
        "    plt.title(f'Confusion Matrix - {name}')\n",
        "    plt.show()"
      ],
      "cell_type": "code",
      "metadata": {
        "colab": {
          "base_uri": "https://localhost:8080/",
          "height": 1000
        },
        "id": "C48rFdoxbvSH",
        "outputId": "7c68d5f1-3d78-4f8e-9079-0d0b2727cc28"
      },
      "execution_count": 14,
      "outputs": [
        {
          "output_type": "stream",
          "name": "stdout",
          "text": [
            "\n",
            "=== Random Forest ===\n",
            "              precision    recall  f1-score   support\n",
            "\n",
            "       cerah       1.00      1.00      1.00       294\n",
            "       hujan       1.00      0.99      1.00       196\n",
            "     mendung       0.97      1.00      0.98        30\n",
            "\n",
            "    accuracy                           1.00       520\n",
            "   macro avg       0.99      1.00      0.99       520\n",
            "weighted avg       1.00      1.00      1.00       520\n",
            "\n"
          ]
        },
        {
          "output_type": "display_data",
          "data": {
            "text/plain": [
              "<Figure size 640x480 with 2 Axes>"
            ],
            "image/png": "[encoded data removed]"
          },
          "metadata": {}
        },
        {
          "output_type": "stream",
          "name": "stdout",
          "text": [
            "\n",
            "=== XGBoost ===\n",
            "              precision    recall  f1-score   support\n",
            "\n",
            "       cerah       1.00      1.00      1.00       294\n",
            "       hujan       1.00      0.99      1.00       196\n",
            "     mendung       0.97      1.00      0.98        30\n",
            "\n",
            "    accuracy                           1.00       520\n",
            "   macro avg       0.99      1.00      0.99       520\n",
            "weighted avg       1.00      1.00      1.00       520\n",
            "\n"
          ]
        },
        {
          "output_type": "display_data",
          "data": {
            "text/plain": [
              "<Figure size 640x480 with 2 Axes>"
            ],
            "image/png": "[encoded data removed]"
          },
          "metadata": {}
        },
        {
          "output_type": "stream",
          "name": "stdout",
          "text": [
            "\n",
            "=== KNN ===\n",
            "              precision    recall  f1-score   support\n",
            "\n",
            "       cerah       0.87      0.75      0.80       294\n",
            "       hujan       0.82      0.70      0.75       196\n",
            "     mendung       0.11      0.37      0.17        30\n",
            "\n",
            "    accuracy                           0.71       520\n",
            "   macro avg       0.60      0.60      0.58       520\n",
            "weighted avg       0.81      0.71      0.75       520\n",
            "\n"
          ]
        },
        {
          "output_type": "display_data",
          "data": {
            "text/plain": [
              "<Figure size 640x480 with 2 Axes>"
            ],
            "image/png": "[encoded data removed]"
          },
          "metadata": {}
        },
        {
          "output_type": "stream",
          "name": "stdout",
          "text": [
            "\n",
            "=== MLP Sklearn ===\n",
            "              precision    recall  f1-score   support\n",
            "\n",
            "       cerah       0.98      0.99      0.98       294\n",
            "       hujan       1.00      0.98      0.99       196\n",
            "     mendung       0.78      0.83      0.81        30\n",
            "\n",
            "    accuracy                           0.98       520\n",
            "   macro avg       0.92      0.93      0.93       520\n",
            "weighted avg       0.98      0.98      0.98       520\n",
            "\n"
          ]
        },
        {
          "output_type": "display_data",
          "data": {
            "text/plain": [
              "<Figure size 640x480 with 2 Axes>"
            ],
            "image/png": "[encoded data removed]"
          },
          "metadata": {}
        },
        {
          "output_type": "stream",
          "name": "stdout",
          "text": [
            "\n",
            "=== MLP TensorFlow ===\n",
            "              precision    recall  f1-score   support\n",
            "\n",
            "       cerah       0.99      1.00      0.99       294\n",
            "       hujan       0.98      0.99      0.99       196\n",
            "     mendung       0.92      0.80      0.86        30\n",
            "\n",
            "    accuracy                           0.98       520\n",
            "   macro avg       0.97      0.93      0.95       520\n",
            "weighted avg       0.98      0.98      0.98       520\n",
            "\n"
          ]
        },
        {
          "output_type": "display_data",
          "data": {
            "text/plain": [
              "<Figure size 640x480 with 2 Axes>"
            ],
            "image/png": "[encoded data removed]"
          },
          "metadata": {}
        }
      ]
    },
    {
      "cell_type": "markdown",
      "source": [
        "## 7. Menentukan Best Model"
      ],
      "metadata": {
        "id": "Qg0yF__mzZeb"
      }
    },
    {
      "cell_type": "markdown",
      "source": [
        "### 7.1 Bandingkan Performa Model\n",
        "\n"
      ],
      "metadata": {
        "id": "2C1HDQiKz5N2"
      }
    },
    {
      "cell_type": "code",
      "source": [
        "# Buat fungsi evaluasi\n",
        "def evaluate_model(name, y_true, y_pred):\n",
        "    return {\n",
        "        'Model': name,\n",
        "        'Accuracy': accuracy_score(y_true, y_pred),\n",
        "        'Precision': precision_score(y_true, y_pred, average='macro'),\n",
        "        'Recall': recall_score(y_true, y_pred, average='macro'),\n",
        "        'F1 Score': f1_score(y_true, y_pred, average='macro')\n",
        "    }\n",
        "\n",
        "# Evaluasi semua model\n",
        "results = []\n",
        "results.append(evaluate_model('Random Forest', y_test, rf_pred))\n",
        "results.append(evaluate_model('XGBoost', y_test, xgb_pred))\n",
        "results.append(evaluate_model('KNN', y_test, knn_pred))\n",
        "results.append(evaluate_model('MLP Sklearn', y_test, mlp_pred))\n",
        "results.append(evaluate_model('MLP TensorFlow', y_test, tf_pred_classes))\n",
        "\n",
        "# Tabel hasil\n",
        "import pandas as pd\n",
        "results_df = pd.DataFrame(results)\n",
        "display(results_df)\n",
        "\n",
        "# Visualisasi\n",
        "import seaborn as sns\n",
        "import matplotlib.pyplot as plt\n",
        "\n",
        "plt.figure(figsize=(10, 6))\n",
        "results_melted = results_df.melt(id_vars=\"Model\", var_name=\"Metric\", value_name=\"Score\")\n",
        "sns.barplot(data=results_melted, x=\"Model\", y=\"Score\", hue=\"Metric\")\n",
        "plt.title(\"Perbandingan Performa Model\")\n",
        "plt.xticks(rotation=15)\n",
        "plt.legend(loc=\"lower right\")\n",
        "plt.tight_layout()\n",
        "plt.show()"
      ],
      "metadata": {
        "colab": {
          "base_uri": "https://localhost:8080/",
          "height": 584
        },
        "id": "Qpz7Tj8cZDVO",
        "outputId": "1987a120-7d97-4b1a-8c0b-58130ab98768"
      },
      "execution_count": 15,
      "outputs": [
        {
          "output_type": "display_data",
          "data": {
            "text/plain": [
              "            Model  Accuracy  Precision    Recall  F1 Score\n",
              "0   Random Forest  0.998077   0.989247  0.998299  0.993683\n",
              "1         XGBoost  0.998077   0.989247  0.998299  0.993683\n",
              "2             KNN  0.707692   0.599975  0.604649  0.576146\n",
              "3     MLP Sklearn  0.976923   0.921434  0.934807  0.927820\n",
              "4  MLP TensorFlow  0.984615   0.965916  0.929932  0.946448"
            ],
            "text/html": [
              "\n",
              "  <div id=\"df-8f0306b6-d45d-469d-96d5-98e0e761bcda\" class=\"colab-df-container\">\n",
              "    <div>\n",
              "<style scoped>\n",
              "    .dataframe tbody tr th:only-of-type {\n",
              "        vertical-align: middle;\n",
              "    }\n",
              "\n",
              "    .dataframe tbody tr th {\n",
              "        vertical-align: top;\n",
              "    }\n",
              "\n",
              "    .dataframe thead th {\n",
              "        text-align: right;\n",
              "    }\n",
              "</style>\n",
              "<table border=\"1\" class=\"dataframe\">\n",
              "  <thead>\n",
              "    <tr style=\"text-align: right;\">\n",
              "      <th></th>\n",
              "      <th>Model</th>\n",
              "      <th>Accuracy</th>\n",
              "      <th>Precision</th>\n",
              "      <th>Recall</th>\n",
              "      <th>F1 Score</th>\n",
              "    </tr>\n",
              "  </thead>\n",
              "  <tbody>\n",
              "    <tr>\n",
              "      <th>0</th>\n",
              "      <td>Random Forest</td>\n",
              "      <td>0.998077</td>\n",
              "      <td>0.989247</td>\n",
              "      <td>0.998299</td>\n",
              "      <td>0.993683</td>\n",
              "    </tr>\n",
              "    <tr>\n",
              "      <th>1</th>\n",
              "      <td>XGBoost</td>\n",
              "      <td>0.998077</td>\n",
              "      <td>0.989247</td>\n",
              "      <td>0.998299</td>\n",
              "      <td>0.993683</td>\n",
              "    </tr>\n",
              "    <tr>\n",
              "      <th>2</th>\n",
              "      <td>KNN</td>\n",
              "      <td>0.707692</td>\n",
              "      <td>0.599975</td>\n",
              "      <td>0.604649</td>\n",
              "      <td>0.576146</td>\n",
              "    </tr>\n",
              "    <tr>\n",
              "      <th>3</th>\n",
              "      <td>MLP Sklearn</td>\n",
              "      <td>0.976923</td>\n",
              "      <td>0.921434</td>\n",
              "      <td>0.934807</td>\n",
              "      <td>0.927820</td>\n",
              "    </tr>\n",
              "    <tr>\n",
              "      <th>4</th>\n",
              "      <td>MLP TensorFlow</td>\n",
              "      <td>0.984615</td>\n",
              "      <td>0.965916</td>\n",
              "      <td>0.929932</td>\n",
              "      <td>0.946448</td>\n",
              "    </tr>\n",
              "  </tbody>\n",
              "</table>\n",
              "</div>\n",
              "    <div class=\"colab-df-buttons\">\n",
              "\n",
              "  <div class=\"colab-df-container\">\n",
              "    <button class=\"colab-df-convert\" onclick=\"convertToInteractive('df-8f0306b6-d45d-469d-96d5-98e0e761bcda')\"\n",
              "            title=\"Convert this dataframe to an interactive table.\"\n",
              "            style=\"display:none;\">\n",
              "\n",
              "  <svg xmlns=\"http://www.w3.org/2000/svg\" height=\"24px\" viewBox=\"0 -960 960 960\">\n",
              "    <path d=\"M120-120v-720h720v720H120Zm60-500h600v-160H180v160Zm220 220h160v-160H400v160Zm0 220h160v-160H400v160ZM180-400h160v-160H180v160Zm440 0h160v-160H620v160ZM180-180h160v-160H180v160Zm440 0h160v-160H620v160Z\"/>\n",
              "  </svg>\n",
              "    </button>\n",
              "\n",
              "  <style>\n",
              "    .colab-df-container {\n",
              "      display:flex;\n",
              "      gap: 12px;\n",
              "    }\n",
              "\n",
              "    .colab-df-convert {\n",
              "      background-color: #E8F0FE;\n",
              "      border: none;\n",
              "      border-radius: 50%;\n",
              "      cursor: pointer;\n",
              "      display: none;\n",
              "      fill: #1967D2;\n",
              "      height: 32px;\n",
              "      padding: 0 0 0 0;\n",
              "      width: 32px;\n",
              "    }\n",
              "\n",
              "    .colab-df-convert:hover {\n",
              "      background-color: #E2EBFA;\n",
              "      box-shadow: 0px 1px 2px rgba(60, 64, 67, 0.3), 0px 1px 3px 1px rgba(60, 64, 67, 0.15);\n",
              "      fill: #174EA6;\n",
              "    }\n",
              "\n",
              "    .colab-df-buttons div {\n",
              "      margin-bottom: 4px;\n",
              "    }\n",
              "\n",
              "    [theme=dark] .colab-df-convert {\n",
              "      background-color: #3B4455;\n",
              "      fill: #D2E3FC;\n",
              "    }\n",
              "\n",
              "    [theme=dark] .colab-df-convert:hover {\n",
              "      background-color: #434B5C;\n",
              "      box-shadow: 0px 1px 3px 1px rgba(0, 0, 0, 0.15);\n",
              "      filter: drop-shadow(0px 1px 2px rgba(0, 0, 0, 0.3));\n",
              "      fill: #FFFFFF;\n",
              "    }\n",
              "  </style>\n",
              "\n",
              "    <script>\n",
              "      const buttonEl =\n",
              "        document.querySelector('#df-8f0306b6-d45d-469d-96d5-98e0e761bcda button.colab-df-convert');\n",
              "      buttonEl.style.display =\n",
              "        google.colab.kernel.accessAllowed ? 'block' : 'none';\n",
              "\n",
              "      async function convertToInteractive(key) {\n",
              "        const element = document.querySelector('#df-8f0306b6-d45d-469d-96d5-98e0e761bcda');\n",
              "        const dataTable =\n",
              "          await google.colab.kernel.invokeFunction('convertToInteractive',\n",
              "                                                    [key], {});\n",
              "        if (!dataTable) return;\n",
              "\n",
              "        const docLinkHtml = 'Like what you see? Visit the ' +\n",
              "          '<a target=\"_blank\" href=https://colab.research.google.com/notebooks/data_table.ipynb>data table notebook</a>'\n",
              "          + ' to learn more about interactive tables.';\n",
              "        element.innerHTML = '';\n",
              "        dataTable['output_type'] = 'display_data';\n",
              "        await google.colab.output.renderOutput(dataTable, element);\n",
              "        const docLink = document.createElement('div');\n",
              "        docLink.innerHTML = docLinkHtml;\n",
              "        element.appendChild(docLink);\n",
              "      }\n",
              "    </script>\n",
              "  </div>\n",
              "\n",
              "\n",
              "    <div id=\"df-aaa540b6-97da-415f-b1cb-f6f95f691e05\">\n",
              "      <button class=\"colab-df-quickchart\" onclick=\"quickchart('df-aaa540b6-97da-415f-b1cb-f6f95f691e05')\"\n",
              "                title=\"Suggest charts\"\n",
              "                style=\"display:none;\">\n",
              "\n",
              "<svg xmlns=\"http://www.w3.org/2000/svg\" height=\"24px\"viewBox=\"0 0 24 24\"\n",
              "     width=\"24px\">\n",
              "    <g>\n",
              "        <path d=\"M19 3H5c-1.1 0-2 .9-2 2v14c0 1.1.9 2 2 2h14c1.1 0 2-.9 2-2V5c0-1.1-.9-2-2-2zM9 17H7v-7h2v7zm4 0h-2V7h2v10zm4 0h-2v-4h2v4z\"/>\n",
              "    </g>\n",
              "</svg>\n",
              "      </button>\n",
              "\n",
              "<style>\n",
              "  .colab-df-quickchart {\n",
              "      --bg-color: #E8F0FE;\n",
              "      --fill-color: #1967D2;\n",
              "      --hover-bg-color: #E2EBFA;\n",
              "      --hover-fill-color: #174EA6;\n",
              "      --disabled-fill-color: #AAA;\n",
              "      --disabled-bg-color: #DDD;\n",
              "  }\n",
              "\n",
              "  [theme=dark] .colab-df-quickchart {\n",
              "      --bg-color: #3B4455;\n",
              "      --fill-color: #D2E3FC;\n",
              "      --hover-bg-color: #434B5C;\n",
              "      --hover-fill-color: #FFFFFF;\n",
              "      --disabled-bg-color: #3B4455;\n",
              "      --disabled-fill-color: #666;\n",
              "  }\n",
              "\n",
              "  .colab-df-quickchart {\n",
              "    background-color: var(--bg-color);\n",
              "    border: none;\n",
              "    border-radius: 50%;\n",
              "    cursor: pointer;\n",
              "    display: none;\n",
              "    fill: var(--fill-color);\n",
              "    height: 32px;\n",
              "    padding: 0;\n",
              "    width: 32px;\n",
              "  }\n",
              "\n",
              "  .colab-df-quickchart:hover {\n",
              "    background-color: var(--hover-bg-color);\n",
              "    box-shadow: 0 1px 2px rgba(60, 64, 67, 0.3), 0 1px 3px 1px rgba(60, 64, 67, 0.15);\n",
              "    fill: var(--button-hover-fill-color);\n",
              "  }\n",
              "\n",
              "  .colab-df-quickchart-complete:disabled,\n",
              "  .colab-df-quickchart-complete:disabled:hover {\n",
              "    background-color: var(--disabled-bg-color);\n",
              "    fill: var(--disabled-fill-color);\n",
              "    box-shadow: none;\n",
              "  }\n",
              "\n",
              "  .colab-df-spinner {\n",
              "    border: 2px solid var(--fill-color);\n",
              "    border-color: transparent;\n",
              "    border-bottom-color: var(--fill-color);\n",
              "    animation:\n",
              "      spin 1s steps(1) infinite;\n",
              "  }\n",
              "\n",
              "  @keyframes spin {\n",
              "    0% {\n",
              "      border-color: transparent;\n",
              "      border-bottom-color: var(--fill-color);\n",
              "      border-left-color: var(--fill-color);\n",
              "    }\n",
              "    20% {\n",
              "      border-color: transparent;\n",
              "      border-left-color: var(--fill-color);\n",
              "      border-top-color: var(--fill-color);\n",
              "    }\n",
              "    30% {\n",
              "      border-color: transparent;\n",
              "      border-left-color: var(--fill-color);\n",
              "      border-top-color: var(--fill-color);\n",
              "      border-right-color: var(--fill-color);\n",
              "    }\n",
              "    40% {\n",
              "      border-color: transparent;\n",
              "      border-right-color: var(--fill-color);\n",
              "      border-top-color: var(--fill-color);\n",
              "    }\n",
              "    60% {\n",
              "      border-color: transparent;\n",
              "      border-right-color: var(--fill-color);\n",
              "    }\n",
              "    80% {\n",
              "      border-color: transparent;\n",
              "      border-right-color: var(--fill-color);\n",
              "      border-bottom-color: var(--fill-color);\n",
              "    }\n",
              "    90% {\n",
              "      border-color: transparent;\n",
              "      border-bottom-color: var(--fill-color);\n",
              "    }\n",
              "  }\n",
              "</style>\n",
              "\n",
              "      <script>\n",
              "        async function quickchart(key) {\n",
              "          const quickchartButtonEl =\n",
              "            document.querySelector('#' + key + ' button');\n",
              "          quickchartButtonEl.disabled = true;  // To prevent multiple clicks.\n",
              "          quickchartButtonEl.classList.add('colab-df-spinner');\n",
              "          try {\n",
              "            const charts = await google.colab.kernel.invokeFunction(\n",
              "                'suggestCharts', [key], {});\n",
              "          } catch (error) {\n",
              "            console.error('Error during call to suggestCharts:', error);\n",
              "          }\n",
              "          quickchartButtonEl.classList.remove('colab-df-spinner');\n",
              "          quickchartButtonEl.classList.add('colab-df-quickchart-complete');\n",
              "        }\n",
              "        (() => {\n",
              "          let quickchartButtonEl =\n",
              "            document.querySelector('#df-aaa540b6-97da-415f-b1cb-f6f95f691e05 button');\n",
              "          quickchartButtonEl.style.display =\n",
              "            google.colab.kernel.accessAllowed ? 'block' : 'none';\n",
              "        })();\n",
              "      </script>\n",
              "    </div>\n",
              "\n",
              "  <div id=\"id_1d02e6f9-5037-48d9-a912-26ae186bfb80\">\n",
              "    <style>\n",
              "      .colab-df-generate {\n",
              "        background-color: #E8F0FE;\n",
              "        border: none;\n",
              "        border-radius: 50%;\n",
              "        cursor: pointer;\n",
              "        display: none;\n",
              "        fill: #1967D2;\n",
              "        height: 32px;\n",
              "        padding: 0 0 0 0;\n",
              "        width: 32px;\n",
              "      }\n",
              "\n",
              "      .colab-df-generate:hover {\n",
              "        background-color: #E2EBFA;\n",
              "        box-shadow: 0px 1px 2px rgba(60, 64, 67, 0.3), 0px 1px 3px 1px rgba(60, 64, 67, 0.15);\n",
              "        fill: #174EA6;\n",
              "      }\n",
              "\n",
              "      [theme=dark] .colab-df-generate {\n",
              "        background-color: #3B4455;\n",
              "        fill: #D2E3FC;\n",
              "      }\n",
              "\n",
              "      [theme=dark] .colab-df-generate:hover {\n",
              "        background-color: #434B5C;\n",
              "        box-shadow: 0px 1px 3px 1px rgba(0, 0, 0, 0.15);\n",
              "        filter: drop-shadow(0px 1px 2px rgba(0, 0, 0, 0.3));\n",
              "        fill: #FFFFFF;\n",
              "      }\n",
              "    </style>\n",
              "    <button class=\"colab-df-generate\" onclick=\"generateWithVariable('results_df')\"\n",
              "            title=\"Generate code using this dataframe.\"\n",
              "            style=\"display:none;\">\n",
              "\n",
              "  <svg xmlns=\"http://www.w3.org/2000/svg\" height=\"24px\"viewBox=\"0 0 24 24\"\n",
              "       width=\"24px\">\n",
              "    <path d=\"M7,19H8.4L18.45,9,17,7.55,7,17.6ZM5,21V16.75L18.45,3.32a2,2,0,0,1,2.83,0l1.4,1.43a1.91,1.91,0,0,1,.58,1.4,1.91,1.91,0,0,1-.58,1.4L9.25,21ZM18.45,9,17,7.55Zm-12,3A5.31,5.31,0,0,0,4.9,8.1,5.31,5.31,0,0,0,1,6.5,5.31,5.31,0,0,0,4.9,4.9,5.31,5.31,0,0,0,6.5,1,5.31,5.31,0,0,0,8.1,4.9,5.31,5.31,0,0,0,12,6.5,5.46,5.46,0,0,0,6.5,12Z\"/>\n",
              "  </svg>\n",
              "    </button>\n",
              "    <script>\n",
              "      (() => {\n",
              "      const buttonEl =\n",
              "        document.querySelector('#id_1d02e6f9-5037-48d9-a912-26ae186bfb80 button.colab-df-generate');\n",
              "      buttonEl.style.display =\n",
              "        google.colab.kernel.accessAllowed ? 'block' : 'none';\n",
              "\n",
              "      buttonEl.onclick = () => {\n",
              "        google.colab.notebook.generateWithVariable('results_df');\n",
              "      }\n",
              "      })();\n",
              "    </script>\n",
              "  </div>\n",
              "\n",
              "    </div>\n",
              "  </div>\n"
            ],
            "application/vnd.google.colaboratory.intrinsic+json": {
              "type": "dataframe",
              "variable_name": "results_df",
              "summary": "{\n  \"name\": \"results_df\",\n  \"rows\": 5,\n  \"fields\": [\n    {\n      \"column\": \"Model\",\n      \"properties\": {\n        \"dtype\": \"string\",\n        \"num_unique_values\": 5,\n        \"samples\": [\n          \"XGBoost\",\n          \"MLP TensorFlow\",\n          \"KNN\"\n        ],\n        \"semantic_type\": \"\",\n        \"description\": \"\"\n      }\n    },\n    {\n      \"column\": \"Accuracy\",\n      \"properties\": {\n        \"dtype\": \"number\",\n        \"std\": 0.1263199539630646,\n        \"min\": 0.7076923076923077,\n        \"max\": 0.9980769230769231,\n        \"num_unique_values\": 4,\n        \"samples\": [\n          0.7076923076923077,\n          0.9846153846153847,\n          0.9980769230769231\n        ],\n        \"semantic_type\": \"\",\n        \"description\": \"\"\n      }\n    },\n    {\n      \"column\": \"Precision\",\n      \"properties\": {\n        \"dtype\": \"number\",\n        \"std\": 0.1662196536846225,\n        \"min\": 0.5999748329428101,\n        \"max\": 0.989247311827957,\n        \"num_unique_values\": 4,\n        \"samples\": [\n          0.5999748329428101,\n          0.9659158288599913,\n          0.989247311827957\n        ],\n        \"semantic_type\": \"\",\n        \"description\": \"\"\n      }\n    },\n    {\n      \"column\": \"Recall\",\n      \"properties\": {\n        \"dtype\": \"number\",\n        \"std\": 0.16464665854265234,\n        \"min\": 0.6046485260770975,\n        \"max\": 0.9982993197278912,\n        \"num_unique_values\": 4,\n        \"samples\": [\n          0.6046485260770975,\n          0.9299319727891158,\n          0.9982993197278912\n        ],\n        \"semantic_type\": \"\",\n        \"description\": \"\"\n      }\n    },\n    {\n      \"column\": \"F1 Score\",\n      \"properties\": {\n        \"dtype\": \"number\",\n        \"std\": 0.17648742828971953,\n        \"min\": 0.5761464248085487,\n        \"max\": 0.9936830042066719,\n        \"num_unique_values\": 4,\n        \"samples\": [\n          0.5761464248085487,\n          0.9464480229001483,\n          0.9936830042066719\n        ],\n        \"semantic_type\": \"\",\n        \"description\": \"\"\n      }\n    }\n  ]\n}"
            }
          },
          "metadata": {}
        },
        {
          "output_type": "display_data",
          "data": {
            "text/plain": [
              "<Figure size 1000x600 with 1 Axes>"
            ],
            "image/png": "[encoded data removed]"
          },
          "metadata": {}
        }
      ]
    },
    {
      "cell_type": "markdown",
      "source": [
        "### 7.2 Diagnosa Overfitting / Underfitting"
      ],
      "metadata": {
        "id": "LKIOqeJR0_BW"
      }
    },
    {
      "cell_type": "code",
      "source": [
        "# Akurasi training vs testing (untuk Sklearn models)\n",
        "print(\"Random Forest\")\n",
        "print(\"Train Accuracy:\", accuracy_score(y_train, rf_clf.predict(X_train)))\n",
        "print(\"Test Accuracy :\", accuracy_score(y_test, rf_pred))\n",
        "\n",
        "print(\"\\nXGBoost\")\n",
        "print(\"Train Accuracy:\", accuracy_score(y_train, xgb_clf.predict(X_train)))\n",
        "print(\"Test Accuracy :\", accuracy_score(y_test, xgb_pred))\n",
        "\n",
        "print(\"\\nKNN\")\n",
        "print(\"Train Accuracy:\", accuracy_score(y_train, knn_clf.predict(X_train)))\n",
        "print(\"Test Accuracy :\", accuracy_score(y_test, knn_pred))\n",
        "\n",
        "print(\"\\nMLP Sklearn\")\n",
        "print(\"Train Accuracy:\", accuracy_score(y_train, mlp_clf.predict(X_train)))\n",
        "print(\"Test Accuracy :\", accuracy_score(y_test, mlp_pred))\n",
        "\n",
        "# Plot training history untuk TensorFlow\n",
        "plt.figure(figsize=(12, 5))\n",
        "\n",
        "plt.subplot(1, 2, 1)\n",
        "plt.plot(history.history['accuracy'], label='Train Accuracy')\n",
        "plt.plot(history.history['val_accuracy'], label='Val Accuracy')\n",
        "plt.title('Akurasi MLP TensorFlow')\n",
        "plt.xlabel('Epoch')\n",
        "plt.ylabel('Akurasi')\n",
        "plt.legend()\n",
        "\n",
        "plt.subplot(1, 2, 2)\n",
        "plt.plot(history.history['loss'], label='Train Loss')\n",
        "plt.plot(history.history['val_loss'], label='Val Loss')\n",
        "plt.title('Loss MLP TensorFlow')\n",
        "plt.xlabel('Epoch')\n",
        "plt.ylabel('Loss')\n",
        "plt.legend()\n",
        "\n",
        "plt.tight_layout()\n",
        "plt.show()"
      ],
      "metadata": {
        "id": "NFs5TYmHxAOz",
        "colab": {
          "base_uri": "https://localhost:8080/",
          "height": 538
        },
        "outputId": "793ebdbf-1af3-4a8b-870d-04b48023f53e"
      },
      "execution_count": 16,
      "outputs": [
        {
          "output_type": "stream",
          "name": "stdout",
          "text": [
            "Random Forest\n",
            "Train Accuracy: 1.0\n",
            "Test Accuracy : 0.9980769230769231\n",
            "\n",
            "XGBoost\n",
            "Train Accuracy: 1.0\n",
            "Test Accuracy : 0.9980769230769231\n",
            "\n",
            "KNN\n",
            "Train Accuracy: 0.8243298969072165\n",
            "Test Accuracy : 0.7076923076923077\n",
            "\n",
            "MLP Sklearn\n",
            "Train Accuracy: 1.0\n",
            "Test Accuracy : 0.9769230769230769\n"
          ]
        },
        {
          "output_type": "display_data",
          "data": {
            "text/plain": [
              "<Figure size 1200x500 with 2 Axes>"
            ],
            "image/png": "[encoded data removed]"
          },
          "metadata": {}
        }
      ]
    },
    {
      "cell_type": "markdown",
      "source": [
        "### 7.3 Hyperparameter Tuning"
      ],
      "metadata": {
        "id": "gdwyAqD88GLJ"
      }
    },
    {
      "cell_type": "code",
      "source": [
        "# Random Forest\n",
        "rf_params = {\n",
        "    'n_estimators': [100, 200],\n",
        "    'max_depth': [None, 10, 20],\n",
        "    'min_samples_split': [2, 5]\n",
        "}\n",
        "rf_grid = GridSearchCV(rf_clf, rf_params, cv=3, scoring='f1_macro', n_jobs=-1)\n",
        "rf_grid.fit(X_train, y_train)\n",
        "print(\"Best Random Forest Params:\", rf_grid.best_params_)\n",
        "print(\"Best RF Score:\", rf_grid.best_score_)\n",
        "\n",
        "# XGBoost\n",
        "xgb_params = {\n",
        "    'n_estimators': [100, 200],\n",
        "    'max_depth': [3, 6],\n",
        "    'learning_rate': [0.05, 0.1]\n",
        "}\n",
        "xgb_grid = GridSearchCV(xgb_clf, xgb_params, cv=3, scoring='f1_macro', n_jobs=-1)\n",
        "xgb_grid.fit(X_train, y_train)\n",
        "print(\"Best XGBoost Params:\", xgb_grid.best_params_)\n",
        "print(\"Best XGB Score:\", xgb_grid.best_score_)\n",
        "\n",
        "# KNN\n",
        "knn_params = {\n",
        "    'n_neighbors': [3, 5, 7],\n",
        "    'weights': ['uniform', 'distance']\n",
        "}\n",
        "knn_grid = GridSearchCV(knn_clf, knn_params, cv=3, scoring='f1_macro', n_jobs=-1)\n",
        "knn_grid.fit(X_train, y_train)\n",
        "print(\"Best KNN Params:\", knn_grid.best_params_)\n",
        "print(\"Best KNN Score:\", knn_grid.best_score_)"
      ],
      "metadata": {
        "id": "6EfRs4HMxBVn",
        "colab": {
          "base_uri": "https://localhost:8080/"
        },
        "outputId": "681606df-8ecc-4373-cdf6-b56dd9a9a5e1"
      },
      "execution_count": 17,
      "outputs": [
        {
          "output_type": "stream",
          "name": "stdout",
          "text": [
            "Best Random Forest Params: {'max_depth': None, 'min_samples_split': 2, 'n_estimators': 100}\n",
            "Best RF Score: 0.9986234056240919\n"
          ]
        },
        {
          "output_type": "stream",
          "name": "stderr",
          "text": [
            "/usr/local/lib/python3.11/dist-packages/xgboost/core.py:158: UserWarning: [14:02:42] WARNING: /workspace/src/learner.cc:740: \n",
            "Parameters: { \"use_label_encoder\" } are not used.\n",
            "\n",
            "  warnings.warn(smsg, UserWarning)\n"
          ]
        },
        {
          "output_type": "stream",
          "name": "stdout",
          "text": [
            "Best XGBoost Params: {'learning_rate': 0.05, 'max_depth': 3, 'n_estimators': 100}\n",
            "Best XGB Score: 0.9986234056240919\n",
            "Best KNN Params: {'n_neighbors': 3, 'weights': 'distance'}\n",
            "Best KNN Score: 0.56844554935883\n"
          ]
        }
      ]
    },
    {
      "cell_type": "markdown",
      "source": [
        "### 8. Konversi Model"
      ],
      "metadata": {
        "id": "C57hAbcXzgUa"
      }
    },
    {
      "cell_type": "code",
      "source": [
        "# Tentukan model dengan akurasi tertinggi\n",
        "best_model_row = results_df.sort_values(\"Accuracy\", ascending=False).iloc[0]\n",
        "best_model_name = best_model_row[\"Model\"]\n",
        "print(f\"\\n✅ Model terbaik berdasarkan akurasi: {best_model_name}\")\n",
        "\n",
        "# Simpan model terbaik sesuai jenisnya\n",
        "if best_model_name == 'Random Forest':\n",
        "    joblib.dump(rf_clf, \"model_best_rf.pkl\")\n",
        "    print(\"✅ Model Random Forest disimpan sebagai 'model_best_rf.pkl'\")\n",
        "\n",
        "elif best_model_name == 'XGBoost':\n",
        "    joblib.dump(xgb_clf, \"model_best_xgb.pkl\")\n",
        "    print(\"✅ Model XGBoost disimpan sebagai 'model_best_xgb.pkl'\")\n",
        "\n",
        "elif best_model_name == 'KNN':\n",
        "    joblib.dump(knn_clf, \"model_best_knn.pkl\")\n",
        "    print(\"✅ Model KNN disimpan sebagai 'model_best_knn.pkl'\")\n",
        "\n",
        "elif best_model_name == 'MLP Sklearn':\n",
        "    joblib.dump(mlp_clf, \"model_best_mlp.pkl\")\n",
        "    print(\"✅ Model MLP Sklearn disimpan sebagai 'model_best_mlp.pkl'\")\n",
        "\n",
        "elif best_model_name == 'MLP TensorFlow':\n",
        "    # Simpan model TensorFlow\n",
        "    model.save(\"model_best_tf.h5\")\n",
        "    print(\"✅ Model MLP TensorFlow disimpan sebagai 'model_best_tf.h5'\")\n",
        "\n",
        "    # Konversi ke TFLite juga\n",
        "    converter = tf.lite.TFLiteConverter.from_keras_model(model)\n",
        "    tflite_model = converter.convert()\n",
        "\n",
        "    with open(\"model_best_tf.tflite\", \"wb\") as f:\n",
        "        f.write(tflite_model)\n",
        "    print(\"✅ Model TensorFlow juga dikonversi ke 'model_best_tf.tflite'\")\n",
        "\n",
        "joblib.dump(scaler, \"scaler.pkl\")\n",
        "joblib.dump(label_encoder, \"label_encoder.pkl\")\n",
        "print(\"✅ Scaler dan Label Encoder disimpan.\")"
      ],
      "metadata": {
        "id": "68g3OnmJxGJv",
        "colab": {
          "base_uri": "https://localhost:8080/"
        },
        "outputId": "31f0efeb-51f6-4b51-cf2a-45a198ae7abd"
      },
      "execution_count": 20,
      "outputs": [
        {
          "output_type": "stream",
          "name": "stdout",
          "text": [
            "\n",
            "✅ Model terbaik berdasarkan akurasi: Random Forest\n",
            "✅ Model Random Forest disimpan sebagai 'model_best_rf.pkl'\n",
            "✅ Scaler dan Label Encoder disimpan.\n"
          ]
        }
      ]
    },
    {
      "cell_type": "markdown",
      "source": [
        "## 9. Inference"
      ],
      "metadata": {
        "id": "N5JR-xW6zjJQ"
      }
    },
    {
      "cell_type": "code",
      "source": [
        "# Menggunakan indexing NumPy biasa karena X_test adalah numpy.ndarray\n",
        "sample_hujan = X_test[y_test == label_encoder.transform(['hujan'])[0]][0]\n",
        "sample_mendung = X_test[y_test == label_encoder.transform(['mendung'])[0]][0]\n",
        "sample_cerah = X_test[y_test == label_encoder.transform(['cerah'])[0]][0]\n",
        "\n",
        "samples = pd.DataFrame([sample_hujan, sample_mendung, sample_cerah])\n",
        "samples.reset_index(drop=True, inplace=True)\n",
        "\n",
        "# Prediksi\n",
        "pred_probs = model.predict(samples)\n",
        "pred_classes = tf.argmax(pred_probs, axis=1).numpy()\n",
        "pred_labels = label_encoder.inverse_transform(pred_classes)\n",
        "\n",
        "# Tampilkan hasil\n",
        "print(\"Hasil Inference:\")\n",
        "for i, label in enumerate(['Hujan', 'Mendung', 'Cerah']):\n",
        "    print(f\"Data Sampel: {label}\")\n",
        "    print(f\"Prediksi: {pred_labels[i]}\")\n",
        "    print(f\"Probabilitas: {pred_probs[i]}\")\n",
        "    print(\"-\" * 30)"
      ],
      "metadata": {
        "id": "GYAkUmrGxHPK",
        "colab": {
          "base_uri": "https://localhost:8080/"
        },
        "outputId": "48f569fb-e333-474f-ff6e-9584d19c711e"
      },
      "execution_count": 19,
      "outputs": [
        {
          "output_type": "stream",
          "name": "stdout",
          "text": [
            "\u001b[1m1/1\u001b[0m \u001b[32m━━━━━━━━━━━━━━━━━━━━\u001b[0m\u001b[37m\u001b[0m \u001b[1m0s\u001b[0m 263ms/step\n",
            "Hasil Inference:\n",
            "Data Sampel: Hujan\n",
            "Prediksi: hujan\n",
            "Probabilitas: [0. 1. 0.]\n",
            "------------------------------\n",
            "Data Sampel: Mendung\n",
            "Prediksi: mendung\n",
            "Probabilitas: [0.00325802 0.0120551  0.9846869 ]\n",
            "------------------------------\n",
            "Data Sampel: Cerah\n",
            "Prediksi: cerah\n",
            "Probabilitas: [9.999999e-01 7.913356e-11 6.395144e-08]\n",
            "------------------------------\n"
          ]
        }
      ]
    }
  ]
}